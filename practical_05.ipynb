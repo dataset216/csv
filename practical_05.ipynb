{
 "cells": [
  {
   "cell_type": "code",
   "execution_count": 1,
   "id": "c40de87f",
   "metadata": {},
   "outputs": [],
   "source": [
    "import pandas as pd"
   ]
  },
  {
   "cell_type": "code",
   "execution_count": 2,
   "id": "d9c1e4b9",
   "metadata": {},
   "outputs": [],
   "source": [
    "df = pd.read_csv('D:\\Downloads\\Social_Network_Ads.csv')"
   ]
  },
  {
   "cell_type": "code",
   "execution_count": 3,
   "id": "9e9986e4",
   "metadata": {},
   "outputs": [
    {
     "data": {
      "text/html": [
       "<div>\n",
       "<style scoped>\n",
       "    .dataframe tbody tr th:only-of-type {\n",
       "        vertical-align: middle;\n",
       "    }\n",
       "\n",
       "    .dataframe tbody tr th {\n",
       "        vertical-align: top;\n",
       "    }\n",
       "\n",
       "    .dataframe thead th {\n",
       "        text-align: right;\n",
       "    }\n",
       "</style>\n",
       "<table border=\"1\" class=\"dataframe\">\n",
       "  <thead>\n",
       "    <tr style=\"text-align: right;\">\n",
       "      <th></th>\n",
       "      <th>User ID</th>\n",
       "      <th>Gender</th>\n",
       "      <th>Age</th>\n",
       "      <th>EstimatedSalary</th>\n",
       "      <th>Purchased</th>\n",
       "    </tr>\n",
       "  </thead>\n",
       "  <tbody>\n",
       "    <tr>\n",
       "      <th>0</th>\n",
       "      <td>15624510</td>\n",
       "      <td>Male</td>\n",
       "      <td>19</td>\n",
       "      <td>19000</td>\n",
       "      <td>0</td>\n",
       "    </tr>\n",
       "    <tr>\n",
       "      <th>1</th>\n",
       "      <td>15810944</td>\n",
       "      <td>Male</td>\n",
       "      <td>35</td>\n",
       "      <td>20000</td>\n",
       "      <td>0</td>\n",
       "    </tr>\n",
       "    <tr>\n",
       "      <th>2</th>\n",
       "      <td>15668575</td>\n",
       "      <td>Female</td>\n",
       "      <td>26</td>\n",
       "      <td>43000</td>\n",
       "      <td>0</td>\n",
       "    </tr>\n",
       "    <tr>\n",
       "      <th>3</th>\n",
       "      <td>15603246</td>\n",
       "      <td>Female</td>\n",
       "      <td>27</td>\n",
       "      <td>57000</td>\n",
       "      <td>0</td>\n",
       "    </tr>\n",
       "    <tr>\n",
       "      <th>4</th>\n",
       "      <td>15804002</td>\n",
       "      <td>Male</td>\n",
       "      <td>19</td>\n",
       "      <td>76000</td>\n",
       "      <td>0</td>\n",
       "    </tr>\n",
       "  </tbody>\n",
       "</table>\n",
       "</div>"
      ],
      "text/plain": [
       "    User ID  Gender  Age  EstimatedSalary  Purchased\n",
       "0  15624510    Male   19            19000          0\n",
       "1  15810944    Male   35            20000          0\n",
       "2  15668575  Female   26            43000          0\n",
       "3  15603246  Female   27            57000          0\n",
       "4  15804002    Male   19            76000          0"
      ]
     },
     "execution_count": 3,
     "metadata": {},
     "output_type": "execute_result"
    }
   ],
   "source": [
    "df.head()"
   ]
  },
  {
   "cell_type": "code",
   "execution_count": 4,
   "id": "18f4acce",
   "metadata": {},
   "outputs": [],
   "source": [
    "x = df[['Age','EstimatedSalary']]\n",
    "y = df['Purchased']"
   ]
  },
  {
   "cell_type": "code",
   "execution_count": 7,
   "id": "b741f645",
   "metadata": {},
   "outputs": [],
   "source": [
    "from sklearn.preprocessing import MinMaxScaler\n",
    "scaler = MinMaxScaler()\n",
    "x_scaled = scaler.fit_transform(x)"
   ]
  },
  {
   "cell_type": "code",
   "execution_count": 8,
   "id": "0811bd35",
   "metadata": {},
   "outputs": [],
   "source": [
    "from sklearn.model_selection import train_test_split"
   ]
  },
  {
   "cell_type": "code",
   "execution_count": 13,
   "id": "a9331f64",
   "metadata": {},
   "outputs": [],
   "source": [
    "x_train,x_test,y_train,y_test = train_test_split(x_scaled,y,test_size=0.25,random_state=0)"
   ]
  },
  {
   "cell_type": "code",
   "execution_count": 14,
   "id": "eb01904d",
   "metadata": {},
   "outputs": [
    {
     "data": {
      "text/plain": [
       "array([[0.61904762, 0.17777778],\n",
       "       [0.33333333, 0.77777778],\n",
       "       [0.47619048, 0.25925926],\n",
       "       [0.33333333, 0.88888889],\n",
       "       [0.80952381, 0.04444444],\n",
       "       [0.83333333, 0.65925926],\n",
       "       [0.5       , 0.2       ],\n",
       "       [0.47619048, 0.34074074],\n",
       "       [0.42857143, 0.25925926],\n",
       "       [0.42857143, 0.35555556],\n",
       "       [0.4047619 , 0.07407407],\n",
       "       [0.4047619 , 0.25925926],\n",
       "       [0.57142857, 0.42962963],\n",
       "       [0.69047619, 0.25185185],\n",
       "       [0.97619048, 0.1037037 ],\n",
       "       [0.73809524, 0.37037037],\n",
       "       [0.64285714, 0.85925926],\n",
       "       [0.30952381, 0.54814815],\n",
       "       [0.66666667, 0.4962963 ],\n",
       "       [0.69047619, 0.26666667],\n",
       "       [0.19047619, 0.        ],\n",
       "       [1.        , 0.64444444],\n",
       "       [0.47619048, 0.71851852],\n",
       "       [0.52380952, 0.68148148],\n",
       "       [0.57142857, 0.28148148],\n",
       "       [0.4047619 , 0.32592593],\n",
       "       [0.71428571, 0.19259259],\n",
       "       [0.71428571, 0.88148148],\n",
       "       [0.47619048, 0.72592593],\n",
       "       [0.26190476, 0.98518519],\n",
       "       [0.19047619, 0.        ],\n",
       "       [1.        , 0.2       ],\n",
       "       [0.14285714, 0.02962963],\n",
       "       [0.57142857, 0.99259259],\n",
       "       [0.66666667, 0.6       ],\n",
       "       [0.23809524, 0.32592593],\n",
       "       [0.5       , 0.6       ],\n",
       "       [0.23809524, 0.54814815],\n",
       "       [0.54761905, 0.42222222],\n",
       "       [0.64285714, 0.08148148],\n",
       "       [0.35714286, 0.4       ],\n",
       "       [0.04761905, 0.4962963 ],\n",
       "       [0.30952381, 0.43703704],\n",
       "       [0.57142857, 0.48148148],\n",
       "       [0.4047619 , 0.42222222],\n",
       "       [0.35714286, 0.99259259],\n",
       "       [0.52380952, 0.41481481],\n",
       "       [0.78571429, 0.97037037],\n",
       "       [0.66666667, 0.47407407],\n",
       "       [0.4047619 , 0.44444444],\n",
       "       [0.47619048, 0.26666667],\n",
       "       [0.42857143, 0.44444444],\n",
       "       [0.45238095, 0.46666667],\n",
       "       [0.47619048, 0.34074074],\n",
       "       [1.        , 0.68888889],\n",
       "       [0.04761905, 0.4962963 ],\n",
       "       [0.92857143, 0.43703704],\n",
       "       [0.57142857, 0.37037037],\n",
       "       [0.19047619, 0.48148148],\n",
       "       [0.66666667, 0.75555556],\n",
       "       [0.4047619 , 0.34074074],\n",
       "       [0.07142857, 0.39259259],\n",
       "       [0.23809524, 0.21481481],\n",
       "       [0.54761905, 0.53333333],\n",
       "       [0.45238095, 0.13333333],\n",
       "       [0.21428571, 0.55555556],\n",
       "       [0.5       , 0.2       ],\n",
       "       [0.23809524, 0.8       ],\n",
       "       [0.30952381, 0.76296296],\n",
       "       [0.16666667, 0.53333333],\n",
       "       [0.4047619 , 0.41481481],\n",
       "       [0.45238095, 0.40740741],\n",
       "       [0.4047619 , 0.17777778],\n",
       "       [0.69047619, 0.05925926],\n",
       "       [0.4047619 , 0.97777778],\n",
       "       [0.71428571, 0.91111111],\n",
       "       [0.19047619, 0.52592593],\n",
       "       [0.16666667, 0.47407407],\n",
       "       [0.80952381, 0.91111111],\n",
       "       [0.78571429, 0.05925926],\n",
       "       [0.4047619 , 0.33333333],\n",
       "       [0.35714286, 0.72592593],\n",
       "       [0.28571429, 0.68148148],\n",
       "       [0.71428571, 0.13333333],\n",
       "       [0.54761905, 0.48148148],\n",
       "       [0.71428571, 0.6       ],\n",
       "       [0.30952381, 0.02222222],\n",
       "       [0.30952381, 0.41481481],\n",
       "       [0.5952381 , 0.84444444],\n",
       "       [0.97619048, 0.45185185],\n",
       "       [0.        , 0.21481481],\n",
       "       [0.42857143, 0.76296296],\n",
       "       [0.57142857, 0.55555556],\n",
       "       [0.69047619, 0.11111111],\n",
       "       [0.19047619, 0.20740741],\n",
       "       [0.52380952, 0.46666667],\n",
       "       [0.66666667, 0.32592593],\n",
       "       [0.97619048, 0.2       ],\n",
       "       [0.66666667, 0.43703704],\n",
       "       [0.4047619 , 0.56296296],\n",
       "       [0.23809524, 0.32592593],\n",
       "       [0.52380952, 0.31111111],\n",
       "       [0.97619048, 0.94814815],\n",
       "       [0.92857143, 0.08148148],\n",
       "       [0.80952381, 0.17037037],\n",
       "       [0.69047619, 0.72592593],\n",
       "       [0.83333333, 0.94814815],\n",
       "       [0.4047619 , 0.08888889],\n",
       "       [0.95238095, 0.63703704],\n",
       "       [0.64285714, 0.22222222],\n",
       "       [0.11904762, 0.4962963 ],\n",
       "       [0.66666667, 0.05925926],\n",
       "       [0.57142857, 0.37037037],\n",
       "       [0.23809524, 0.51111111],\n",
       "       [0.47619048, 0.32592593],\n",
       "       [0.19047619, 0.51111111],\n",
       "       [0.26190476, 0.0962963 ],\n",
       "       [0.45238095, 0.41481481],\n",
       "       [0.0952381 , 0.2962963 ],\n",
       "       [0.71428571, 0.14814815],\n",
       "       [0.73809524, 0.0962963 ],\n",
       "       [0.47619048, 0.37037037],\n",
       "       [0.21428571, 0.01481481],\n",
       "       [0.66666667, 0.0962963 ],\n",
       "       [0.71428571, 0.93333333],\n",
       "       [0.19047619, 0.01481481],\n",
       "       [0.4047619 , 0.60740741],\n",
       "       [0.5       , 0.32592593],\n",
       "       [0.14285714, 0.08888889],\n",
       "       [0.33333333, 0.02222222],\n",
       "       [0.66666667, 0.54074074],\n",
       "       [0.4047619 , 0.31851852],\n",
       "       [0.9047619 , 0.33333333],\n",
       "       [0.69047619, 0.14074074],\n",
       "       [0.52380952, 0.42222222],\n",
       "       [0.33333333, 0.62962963],\n",
       "       [0.02380952, 0.04444444],\n",
       "       [0.16666667, 0.55555556],\n",
       "       [0.4047619 , 0.54074074],\n",
       "       [0.23809524, 0.12592593],\n",
       "       [0.76190476, 0.03703704],\n",
       "       [0.52380952, 0.32592593],\n",
       "       [0.76190476, 0.21481481],\n",
       "       [0.4047619 , 0.42222222],\n",
       "       [0.52380952, 0.94074074],\n",
       "       [0.66666667, 0.12592593],\n",
       "       [0.5       , 0.41481481],\n",
       "       [0.04761905, 0.43703704],\n",
       "       [0.26190476, 0.44444444],\n",
       "       [0.30952381, 0.45185185],\n",
       "       [0.69047619, 0.07407407],\n",
       "       [0.52380952, 0.34074074],\n",
       "       [0.38095238, 0.71851852],\n",
       "       [0.47619048, 0.48148148],\n",
       "       [0.57142857, 0.44444444],\n",
       "       [0.69047619, 0.23703704],\n",
       "       [0.5       , 0.44444444],\n",
       "       [0.02380952, 0.07407407],\n",
       "       [0.45238095, 0.48148148],\n",
       "       [0.42857143, 0.33333333],\n",
       "       [0.54761905, 0.27407407],\n",
       "       [0.42857143, 0.81481481],\n",
       "       [0.71428571, 0.1037037 ],\n",
       "       [0.42857143, 0.82222222],\n",
       "       [0.78571429, 0.88148148],\n",
       "       [0.21428571, 0.31111111],\n",
       "       [0.47619048, 0.41481481],\n",
       "       [0.5       , 0.34074074],\n",
       "       [0.0952381 , 0.08888889],\n",
       "       [0.35714286, 0.33333333],\n",
       "       [0.71428571, 0.43703704],\n",
       "       [0.95238095, 0.05925926],\n",
       "       [0.83333333, 0.42222222],\n",
       "       [0.33333333, 0.75555556],\n",
       "       [0.85714286, 0.40740741],\n",
       "       [0.28571429, 0.48148148],\n",
       "       [0.95238095, 0.59259259],\n",
       "       [0.19047619, 0.27407407],\n",
       "       [0.64285714, 0.47407407],\n",
       "       [0.14285714, 0.2962963 ],\n",
       "       [0.52380952, 0.44444444],\n",
       "       [0.35714286, 0.0962963 ],\n",
       "       [0.61904762, 0.91851852],\n",
       "       [0.0952381 , 0.02222222],\n",
       "       [0.35714286, 0.26666667],\n",
       "       [0.5952381 , 0.87407407],\n",
       "       [0.14285714, 0.12592593],\n",
       "       [0.66666667, 0.05185185],\n",
       "       [0.4047619 , 0.2962963 ],\n",
       "       [0.85714286, 0.65925926],\n",
       "       [0.71428571, 0.77037037],\n",
       "       [0.4047619 , 0.28148148],\n",
       "       [0.45238095, 0.95555556],\n",
       "       [0.11904762, 0.37777778],\n",
       "       [0.45238095, 0.9037037 ],\n",
       "       [0.30952381, 0.31851852],\n",
       "       [0.35714286, 0.19259259],\n",
       "       [0.64285714, 0.05185185],\n",
       "       [0.28571429, 0.        ],\n",
       "       [0.02380952, 0.02962963],\n",
       "       [0.73809524, 0.43703704],\n",
       "       [0.5       , 0.79259259],\n",
       "       [0.4047619 , 0.42962963],\n",
       "       [0.5       , 0.41481481],\n",
       "       [0.14285714, 0.05925926],\n",
       "       [0.54761905, 0.42222222],\n",
       "       [0.26190476, 0.5037037 ],\n",
       "       [0.85714286, 0.08148148],\n",
       "       [0.4047619 , 0.21481481],\n",
       "       [0.45238095, 0.44444444],\n",
       "       [0.26190476, 0.23703704],\n",
       "       [0.30952381, 0.39259259],\n",
       "       [0.57142857, 0.28888889],\n",
       "       [0.28571429, 0.88888889],\n",
       "       [0.80952381, 0.73333333],\n",
       "       [0.76190476, 0.15555556],\n",
       "       [0.9047619 , 0.87407407],\n",
       "       [0.26190476, 0.34074074],\n",
       "       [0.28571429, 0.54814815],\n",
       "       [0.19047619, 0.00740741],\n",
       "       [0.35714286, 0.11851852],\n",
       "       [0.54761905, 0.42222222],\n",
       "       [0.42857143, 0.13333333],\n",
       "       [0.88095238, 0.81481481],\n",
       "       [0.71428571, 0.85925926],\n",
       "       [0.54761905, 0.41481481],\n",
       "       [0.28571429, 0.34814815],\n",
       "       [0.45238095, 0.42222222],\n",
       "       [0.54761905, 0.35555556],\n",
       "       [0.95238095, 0.23703704],\n",
       "       [0.28571429, 0.74814815],\n",
       "       [0.04761905, 0.25185185],\n",
       "       [0.45238095, 0.43703704],\n",
       "       [0.54761905, 0.32592593],\n",
       "       [0.73809524, 0.54814815],\n",
       "       [0.23809524, 0.47407407],\n",
       "       [0.83333333, 0.4962963 ],\n",
       "       [0.52380952, 0.31111111],\n",
       "       [1.        , 0.14074074],\n",
       "       [0.4047619 , 0.68888889],\n",
       "       [0.07142857, 0.42222222],\n",
       "       [0.47619048, 0.41481481],\n",
       "       [0.5       , 0.67407407],\n",
       "       [0.45238095, 0.31111111],\n",
       "       [0.19047619, 0.42222222],\n",
       "       [0.4047619 , 0.05925926],\n",
       "       [0.85714286, 0.68888889],\n",
       "       [0.28571429, 0.01481481],\n",
       "       [0.5       , 0.88148148],\n",
       "       [0.26190476, 0.20740741],\n",
       "       [0.35714286, 0.20740741],\n",
       "       [0.4047619 , 0.17037037],\n",
       "       [0.54761905, 0.22222222],\n",
       "       [0.54761905, 0.42222222],\n",
       "       [0.5       , 0.88148148],\n",
       "       [0.21428571, 0.9037037 ],\n",
       "       [0.07142857, 0.00740741],\n",
       "       [0.19047619, 0.12592593],\n",
       "       [0.30952381, 0.37777778],\n",
       "       [0.5       , 0.42962963],\n",
       "       [0.54761905, 0.47407407],\n",
       "       [0.69047619, 0.25925926],\n",
       "       [0.54761905, 0.11111111],\n",
       "       [0.45238095, 0.57777778],\n",
       "       [1.        , 0.22962963],\n",
       "       [0.16666667, 0.05185185],\n",
       "       [0.23809524, 0.16296296],\n",
       "       [0.47619048, 0.2962963 ],\n",
       "       [0.42857143, 0.28888889],\n",
       "       [0.04761905, 0.15555556],\n",
       "       [0.9047619 , 0.65925926],\n",
       "       [0.52380952, 0.31111111],\n",
       "       [0.57142857, 0.68888889],\n",
       "       [0.04761905, 0.05925926],\n",
       "       [0.52380952, 0.37037037],\n",
       "       [0.69047619, 0.03703704],\n",
       "       [0.        , 0.52592593],\n",
       "       [0.4047619 , 0.47407407],\n",
       "       [0.92857143, 0.13333333],\n",
       "       [0.38095238, 0.42222222],\n",
       "       [0.73809524, 0.17777778],\n",
       "       [0.21428571, 0.11851852],\n",
       "       [0.02380952, 0.40740741],\n",
       "       [0.5       , 0.47407407],\n",
       "       [0.19047619, 0.48888889],\n",
       "       [0.16666667, 0.48148148],\n",
       "       [0.23809524, 0.51851852],\n",
       "       [0.88095238, 0.17777778],\n",
       "       [0.76190476, 0.54074074],\n",
       "       [0.73809524, 0.54074074],\n",
       "       [0.80952381, 1.        ],\n",
       "       [0.4047619 , 0.37037037],\n",
       "       [0.57142857, 0.28888889],\n",
       "       [0.38095238, 0.20740741],\n",
       "       [0.45238095, 0.27407407],\n",
       "       [0.71428571, 0.11111111],\n",
       "       [0.26190476, 0.20740741],\n",
       "       [0.42857143, 0.27407407],\n",
       "       [0.21428571, 0.28888889],\n",
       "       [0.19047619, 0.76296296]])"
      ]
     },
     "execution_count": 14,
     "metadata": {},
     "output_type": "execute_result"
    }
   ],
   "source": [
    "x_train"
   ]
  },
  {
   "cell_type": "code",
   "execution_count": 17,
   "id": "1e9032f1",
   "metadata": {},
   "outputs": [
    {
     "data": {
      "text/plain": [
       "250    0\n",
       "63     1\n",
       "312    0\n",
       "159    1\n",
       "283    1\n",
       "      ..\n",
       "323    1\n",
       "192    0\n",
       "117    0\n",
       "47     0\n",
       "172    0\n",
       "Name: Purchased, Length: 300, dtype: int64"
      ]
     },
     "execution_count": 17,
     "metadata": {},
     "output_type": "execute_result"
    }
   ],
   "source": [
    "y_train"
   ]
  },
  {
   "cell_type": "code",
   "execution_count": 16,
   "id": "8fb0ea9a",
   "metadata": {},
   "outputs": [],
   "source": [
    "from sklearn.linear_model import LogisticRegression"
   ]
  },
  {
   "cell_type": "code",
   "execution_count": 18,
   "id": "deaa2e03",
   "metadata": {},
   "outputs": [
    {
     "data": {
      "text/plain": [
       "<AxesSubplot:xlabel='Purchased', ylabel='count'>"
      ]
     },
     "execution_count": 18,
     "metadata": {},
     "output_type": "execute_result"
    },
    {
     "data": {
      "image/png": "[encoded data removed]",
      "text/plain": [
       "<Figure size 640x480 with 1 Axes>"
      ]
     },
     "metadata": {},
     "output_type": "display_data"
    }
   ],
   "source": [
    "import seaborn as sns\n",
    "sns.countplot(x=y)"
   ]
  },
  {
   "cell_type": "code",
   "execution_count": 21,
   "id": "56ca90ca",
   "metadata": {},
   "outputs": [
    {
     "data": {
      "text/plain": [
       "0    257\n",
       "1    143\n",
       "Name: Purchased, dtype: int64"
      ]
     },
     "execution_count": 21,
     "metadata": {},
     "output_type": "execute_result"
    }
   ],
   "source": [
    "y.value_counts()"
   ]
  },
  {
   "cell_type": "code",
   "execution_count": 22,
   "id": "81f8710f",
   "metadata": {},
   "outputs": [],
   "source": [
    "classifier = LogisticRegression()"
   ]
  },
  {
   "cell_type": "code",
   "execution_count": 23,
   "id": "458ac7c5",
   "metadata": {},
   "outputs": [
    {
     "data": {
      "text/plain": [
       "LogisticRegression()"
      ]
     },
     "execution_count": 23,
     "metadata": {},
     "output_type": "execute_result"
    }
   ],
   "source": [
    "classifier.fit(x_train,y_train)"
   ]
  },
  {
   "cell_type": "code",
   "execution_count": 24,
   "id": "ebd4ecc5",
   "metadata": {},
   "outputs": [],
   "source": [
    "y_pred=classifier.predict(x_test)"
   ]
  },
  {
   "cell_type": "code",
   "execution_count": 25,
   "id": "38d4d77d",
   "metadata": {},
   "outputs": [
    {
     "data": {
      "text/plain": [
       "(100,)"
      ]
     },
     "execution_count": 25,
     "metadata": {},
     "output_type": "execute_result"
    }
   ],
   "source": [
    "y_pred.shape"
   ]
  },
  {
   "cell_type": "code",
   "execution_count": 26,
   "id": "23c1ccde",
   "metadata": {},
   "outputs": [
    {
     "data": {
      "text/plain": [
       "array([0, 0, 0, 0, 0, 0, 0, 1, 0, 0, 0, 0, 0, 0, 0, 0, 0, 0, 1, 0, 0, 1,\n",
       "       0, 1, 0, 1, 0, 0, 0, 0, 0, 0, 1, 0, 0, 0, 0, 0, 0, 0, 0, 0, 0, 0,\n",
       "       1, 0, 0, 1, 0, 1, 1, 0, 0, 0, 1, 0, 0, 0, 0, 0, 0, 1, 0, 0, 0, 1,\n",
       "       0, 0, 0, 0, 1, 0, 0, 0, 0, 0, 0, 0, 1, 1, 1, 1, 0, 0, 1, 0, 0, 1,\n",
       "       0, 0, 0, 1, 0, 0, 0, 0, 0, 0, 1, 1], dtype=int64)"
      ]
     },
     "execution_count": 26,
     "metadata": {},
     "output_type": "execute_result"
    }
   ],
   "source": [
    "y_pred"
   ]
  },
  {
   "cell_type": "code",
   "execution_count": 27,
   "id": "23cce0c6",
   "metadata": {},
   "outputs": [],
   "source": [
    "import seaborn as sns"
   ]
  },
  {
   "cell_type": "code",
   "execution_count": 30,
   "id": "09696c6c",
   "metadata": {},
   "outputs": [
    {
     "name": "stderr",
     "output_type": "stream",
     "text": [
      "C:\\Users\\mayur\\anaconda3\\lib\\site-packages\\seaborn\\_decorators.py:36: FutureWarning: Pass the following variables as keyword args: x, y. From version 0.12, the only valid positional argument will be `data`, and passing other arguments without an explicit keyword will result in an error or misinterpretation.\n",
      "  warnings.warn(\n"
     ]
    },
    {
     "data": {
      "text/plain": [
       "<AxesSubplot:xlabel='Age', ylabel='EstimatedSalary'>"
      ]
     },
     "execution_count": 30,
     "metadata": {},
     "output_type": "execute_result"
    },
    {
     "data": {
      "image/png": "[encoded data removed]",
      "text/plain": [
       "<Figure size 640x480 with 1 Axes>"
      ]
     },
     "metadata": {},
     "output_type": "display_data"
    }
   ],
   "source": [
    "sns.scatterplot(x['Age'],x['EstimatedSalary'],c=y)"
   ]
  },
  {
   "cell_type": "code",
   "execution_count": 32,
   "id": "2233c522",
   "metadata": {},
   "outputs": [],
   "source": [
    "from sklearn.metrics import confusion_matrix\n",
    "from sklearn.metrics import plot_confusion_matrix\n",
    "from sklearn.metrics import accuracy_score\n",
    "from sklearn.metrics import classification_report"
   ]
  },
  {
   "cell_type": "code",
   "execution_count": 33,
   "id": "a6c7cfd3",
   "metadata": {},
   "outputs": [
    {
     "data": {
      "text/plain": [
       "array([[67,  1],\n",
       "       [10, 22]], dtype=int64)"
      ]
     },
     "execution_count": 33,
     "metadata": {},
     "output_type": "execute_result"
    }
   ],
   "source": [
    "confusion_matrix(y_test,y_pred)"
   ]
  },
  {
   "cell_type": "code",
   "execution_count": 35,
   "id": "98619142",
   "metadata": {},
   "outputs": [
    {
     "data": {
      "text/plain": [
       "<sklearn.metrics._plot.confusion_matrix.ConfusionMatrixDisplay at 0x224f1d69610>"
      ]
     },
     "execution_count": 35,
     "metadata": {},
     "output_type": "execute_result"
    },
    {
     "data": {
      "image/png": "[encoded data removed]",
      "text/plain": [
       "<Figure size 640x480 with 2 Axes>"
      ]
     },
     "metadata": {},
     "output_type": "display_data"
    }
   ],
   "source": [
    "plot_confusion_matrix(classifier,x_test,y_test)"
   ]
  },
  {
   "cell_type": "code",
   "execution_count": 37,
   "id": "c3886d58",
   "metadata": {},
   "outputs": [
    {
     "data": {
      "text/plain": [
       "0.89"
      ]
     },
     "execution_count": 37,
     "metadata": {},
     "output_type": "execute_result"
    }
   ],
   "source": [
    "accuracy_score(y_test,y_pred)"
   ]
  },
  {
   "cell_type": "code",
   "execution_count": 39,
   "id": "7276c204",
   "metadata": {},
   "outputs": [
    {
     "name": "stdout",
     "output_type": "stream",
     "text": [
      "              precision    recall  f1-score   support\n",
      "\n",
      "           0       0.87      0.99      0.92        68\n",
      "           1       0.96      0.69      0.80        32\n",
      "\n",
      "    accuracy                           0.89       100\n",
      "   macro avg       0.91      0.84      0.86       100\n",
      "weighted avg       0.90      0.89      0.88       100\n",
      "\n"
     ]
    }
   ],
   "source": [
    "print(classification_report(y_test,y_pred))"
   ]
  }
 ],
 "metadata": {
  "kernelspec": {
   "display_name": "Python 3 (ipykernel)",
   "language": "python",
   "name": "python3"
  },
  "language_info": {
   "codemirror_mode": {
    "name": "ipython",
    "version": 3
   },
   "file_extension": ".py",
   "mimetype": "text/x-python",
   "name": "python",
   "nbconvert_exporter": "python",
   "pygments_lexer": "ipython3",
   "version": "3.9.13"
  }
 },
 "nbformat": 4,
 "nbformat_minor": 5
}
